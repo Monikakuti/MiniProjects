{
 "cells": [
  {
   "cell_type": "code",
   "execution_count": 2,
   "id": "dd396d1d",
   "metadata": {},
   "outputs": [
    {
     "name": "stdout",
     "output_type": "stream",
     "text": [
      "\n",
      "Simple Calculator\n",
      "Choose operation: +, -, *, / or 'q' to quit\n",
      "Result: -1.0\n",
      "\n",
      "Simple Calculator\n",
      "Choose operation: +, -, *, / or 'q' to quit\n",
      "Result: 5.0\n",
      "\n",
      "Simple Calculator\n",
      "Choose operation: +, -, *, / or 'q' to quit\n",
      "Result: 1530.0\n",
      "\n",
      "Simple Calculator\n",
      "Choose operation: +, -, *, / or 'q' to quit\n",
      "Result: 0.6666666666666666\n",
      "\n",
      "Simple Calculator\n",
      "Choose operation: +, -, *, / or 'q' to quit\n",
      "Goodbye!\n"
     ]
    }
   ],
   "source": [
    "def calculator():\n",
    "    while True:\n",
    "        print(\"\\nSimple Calculator\")\n",
    "        print(\"Choose operation: +, -, *, / or 'q' to quit\")\n",
    "        op = input(\"Operation: \")\n",
    "\n",
    "        if op == 'q':\n",
    "            print(\"Goodbye!\")\n",
    "            break\n",
    "\n",
    "        num1 = float(input(\"Enter first number: \"))\n",
    "        num2 = float(input(\"Enter second number: \"))\n",
    "\n",
    "        if op == '+':\n",
    "            print(\"Result:\", num1 + num2)\n",
    "        elif op == '-':\n",
    "            print(\"Result:\", num1 - num2)\n",
    "        elif op == '*':\n",
    "            print(\"Result:\", num1 * num2)\n",
    "        elif op == '/':\n",
    "            if num2 != 0:\n",
    "                print(\"Result:\", num1 / num2)\n",
    "            else:\n",
    "                print(\"Error: Division by zero!\")\n",
    "        else:\n",
    "            print(\"Invalid operation!\")\n",
    "\n",
    "calculator()\n"
   ]
  }
 ],
 "metadata": {
  "kernelspec": {
   "display_name": "Python 3",
   "language": "python",
   "name": "python3"
  },
  "language_info": {
   "codemirror_mode": {
    "name": "ipython",
    "version": 3
   },
   "file_extension": ".py",
   "mimetype": "text/x-python",
   "name": "python",
   "nbconvert_exporter": "python",
   "pygments_lexer": "ipython3",
   "version": "3.12.5"
  }
 },
 "nbformat": 4,
 "nbformat_minor": 5
}

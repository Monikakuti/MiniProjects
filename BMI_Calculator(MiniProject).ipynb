{
 "cells": [
  {
   "cell_type": "code",
   "execution_count": 1,
   "id": "0a8b906d",
   "metadata": {},
   "outputs": [],
   "source": [
    "# getting input from the user \n",
    "height = float(input(\"Enter your height in meters : \")) #(e.g. 1.75)\n",
    "weight = float(input(\"Enter your weight in kilograms : \")) #(e.g. 70)"
   ]
  },
  {
   "cell_type": "code",
   "execution_count": 2,
   "id": "45a9a5cb",
   "metadata": {},
   "outputs": [],
   "source": [
    "# calculate BMI\n",
    "bmi = weight / (height ** 2)"
   ]
  },
  {
   "cell_type": "code",
   "execution_count": 3,
   "id": "9e358bc6",
   "metadata": {},
   "outputs": [],
   "source": [
    "# categorize\n",
    "if bmi < 18.5:\n",
    "    category = \"Underweight\"\n",
    "elif 18.5 <= bmi < 24.9:\n",
    "    category = \"Normal weight\"\n",
    "elif 25 <= bmi < 29.9:\n",
    "    category = \"Overweight\"\n",
    "else:\n",
    "    category = \"Obesity\""
   ]
  },
  {
   "cell_type": "code",
   "execution_count": 4,
   "id": "e106102a",
   "metadata": {},
   "outputs": [
    {
     "name": "stdout",
     "output_type": "stream",
     "text": [
      "Your BMI is:  22.4\n",
      "Category:  Normal weight\n"
     ]
    }
   ],
   "source": [
    "# output\n",
    "print(\"Your BMI is: \", round(bmi, 2)) #round(bmi, 2) makes sure your BMI is shown to 2 decimal places for neatness.\n",
    "print(\"Category: \", category)\n"
   ]
  }
 ],
 "metadata": {
  "kernelspec": {
   "display_name": "Python 3",
   "language": "python",
   "name": "python3"
  },
  "language_info": {
   "codemirror_mode": {
    "name": "ipython",
    "version": 3
   },
   "file_extension": ".py",
   "mimetype": "text/x-python",
   "name": "python",
   "nbconvert_exporter": "python",
   "pygments_lexer": "ipython3",
   "version": "3.12.5"
  }
 },
 "nbformat": 4,
 "nbformat_minor": 5
}

{
 "cells": [
  {
   "cell_type": "code",
   "execution_count": 1,
   "id": "1d83d843",
   "metadata": {},
   "outputs": [
    {
     "name": "stdout",
     "output_type": "stream",
     "text": [
      "Welcome to Pizza Hub! 🍕\n",
      "\n",
      "🧾 BILL SUMMARY 🧾\n",
      "Total items ordered: 5\n",
      "Total before discount: ₹787.50\n",
      "Total after 10% discount: ₹708.75\n",
      "Thank you for ordering! 😊\n"
     ]
    }
   ],
   "source": [
    "# Global discount rate\n",
    "discount_rate = 0.10  # 10%\n",
    "\n",
    "def pizza_order(small=0, medium=0, large=0, tax_rate=0.05):\n",
    "    # Local prices\n",
    "    price_small = 100\n",
    "    price_medium = 150\n",
    "    price_large = 200\n",
    "\n",
    "    # Calculate cost\n",
    "    subtotal = small * price_small + medium * price_medium + large * price_large\n",
    "    tax = subtotal * tax_rate\n",
    "    total = subtotal + tax\n",
    "\n",
    "    # Total items\n",
    "    total_items = small + medium + large\n",
    "\n",
    "    # Lambda for discount\n",
    "    apply_discount = lambda amount: amount - (amount * discount_rate)\n",
    "    final_price = apply_discount(total)\n",
    "\n",
    "    return total_items, total, final_price\n",
    "\n",
    "\n",
    "# 🔻 USER INPUT SECTION 🔻\n",
    "\n",
    "print(\"Welcome to Pizza Hub! 🍕\")\n",
    "try:\n",
    "    small = int(input(\"How many small pizzas? \"))\n",
    "    medium = int(input(\"How many medium pizzas? \"))\n",
    "    large = int(input(\"How many large pizzas? \"))\n",
    "\n",
    "    items, total_before, total_after = pizza_order(small, medium, large)\n",
    "\n",
    "    # Final Bill\n",
    "    print(\"\\n🧾 BILL SUMMARY 🧾\")\n",
    "    print(f\"Total items ordered: {items}\")\n",
    "    print(f\"Total before discount: ₹{total_before:.2f}\")\n",
    "    print(f\"Total after 10% discount: ₹{total_after:.2f}\")\n",
    "    print(\"Thank you for ordering! 😊\")\n",
    "\n",
    "except ValueError:\n",
    "    print(\"❌ Please enter a valid number.\")\n"
   ]
  }
 ],
 "metadata": {
  "kernelspec": {
   "display_name": "Python 3",
   "language": "python",
   "name": "python3"
  },
  "language_info": {
   "codemirror_mode": {
    "name": "ipython",
    "version": 3
   },
   "file_extension": ".py",
   "mimetype": "text/x-python",
   "name": "python",
   "nbconvert_exporter": "python",
   "pygments_lexer": "ipython3",
   "version": "3.12.5"
  }
 },
 "nbformat": 4,
 "nbformat_minor": 5
}

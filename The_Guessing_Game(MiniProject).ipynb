{
 "cells": [
  {
   "cell_type": "code",
   "execution_count": 5,
   "id": "8890189f",
   "metadata": {},
   "outputs": [
    {
     "name": "stdout",
     "output_type": "stream",
     "text": [
      "🎯 Welcome to the Guessing Game!\n",
      "I’m thinking of a number between 1 and 20... can you guess it?\n",
      "YASSS YOU GOT IT IN 1 tries 🎉\n"
     ]
    }
   ],
   "source": [
    "import random  # So Python can pick a random number\n",
    "\n",
    "secret_number = random.randint(1, 20)\n",
    "guess = 0\n",
    "attempts = 0\n",
    "\n",
    "print(\"🎯 Welcome to the Guessing Game!\")\n",
    "print(\"I’m thinking of a number between 1 and 20... can you guess it?\")\n",
    "\n",
    "while guess != secret_number:\n",
    "    guess = int(input(\"Enter your guess: \"))\n",
    "    attempts += 1\n",
    "\n",
    "    if guess < secret_number:\n",
    "        print(\"Too low ⬇️ Try again.\")\n",
    "    elif guess > secret_number:\n",
    "        print(\"Too high ⬆️ Try again.\")\n",
    "    else:\n",
    "        print(f\"YASSS YOU GOT IT IN {attempts} tries 🎉\")\n"
   ]
  },
  {
   "cell_type": "code",
   "execution_count": null,
   "id": "c5c065de",
   "metadata": {},
   "outputs": [],
   "source": [
    "difference = abs(guess - secret_number)\n",
    "\n",
    "# abs() gives you the absolute value (so it’s always positive).\n",
    "# That tells us how far off the guess is."
   ]
  },
  {
   "cell_type": "code",
   "execution_count": 6,
   "id": "fc4f9b83",
   "metadata": {},
   "outputs": [
    {
     "name": "stdout",
     "output_type": "stream",
     "text": [
      "🎯 Welcome to the Guessing Game!\n",
      "I’m thinking of a number between 1 and 20... can you guess it?\n",
      "Too high ⬆️\n",
      "So close I can smell it 😩🔥\n",
      "YASSS YOU GOT IT IN 2 tries 😭🎉👑\n"
     ]
    }
   ],
   "source": [
    "import random\n",
    "\n",
    "secret_number = random.randint(1, 20)\n",
    "guess = 0\n",
    "attempts = 0\n",
    "\n",
    "print(\"🎯 Welcome to the Guessing Game!\")\n",
    "print(\"I’m thinking of a number between 1 and 20... can you guess it?\")\n",
    "\n",
    "while guess != secret_number:\n",
    "    guess = int(input(\"Enter your guess: \"))\n",
    "    attempts += 1\n",
    "\n",
    "    difference = abs(guess - secret_number)\n",
    "\n",
    "    if guess < secret_number:\n",
    "        print(\"Too low ⬇️\")\n",
    "    elif guess > secret_number:\n",
    "        print(\"Too high ⬆️\")\n",
    "    \n",
    "    # Sassy closeness feedback\n",
    "    if guess != secret_number:\n",
    "        if difference >= 10:\n",
    "            print(\"Girl, you're ice cold 🥶\")\n",
    "        elif difference >= 5:\n",
    "            print(\"You’re kinda close, keep going! 🔍\")\n",
    "        else:\n",
    "            print(\"So close I can smell it 😩🔥\")\n",
    "\n",
    "print(f\"YASSS YOU GOT IT IN {attempts} tries 😭🎉👑\")\n"
   ]
  },
  {
   "cell_type": "code",
   "execution_count": null,
   "id": "111ea6c4",
   "metadata": {},
   "outputs": [],
   "source": [
    "# 🎯 Goal:\n",
    "# Only give the player 5 tries to guess the number. If they can’t, game over. ☠️\n",
    "max_attempts = 5\n"
   ]
  },
  {
   "cell_type": "code",
   "execution_count": null,
   "id": "9e4083bf",
   "metadata": {},
   "outputs": [],
   "source": [
    "while guess != secret_number and attempts < max_attempts:"
   ]
  },
  {
   "cell_type": "code",
   "execution_count": null,
   "id": "29b070d9",
   "metadata": {},
   "outputs": [],
   "source": [
    "if guess != secret_number:\n",
    "    print(\"Game over 😭 Out of attempts!\")\n",
    "    print(f\"The number was {secret_number}\")\n",
    "else:\n",
    "    print(f\"YASSS YOU GOT IT IN {attempts} tries 😭🎉👑\")\n"
   ]
  },
  {
   "cell_type": "code",
   "execution_count": null,
   "id": "bf671519",
   "metadata": {},
   "outputs": [],
   "source": [
    "# Level 2"
   ]
  },
  {
   "cell_type": "code",
   "execution_count": 7,
   "id": "49714c22",
   "metadata": {},
   "outputs": [
    {
     "name": "stdout",
     "output_type": "stream",
     "text": [
      "🎯 Welcome to the Guessing Game!\n",
      "I’m thinking of a number between 1 and 20... can you guess it?\n",
      "You only have 5 tries, so choose wisely 😏\n",
      "Too low ⬇️\n",
      "You’re kinda close, keep going! 🔍\n",
      "Attempts left: 4 💥\n",
      "\n",
      "Too low ⬇️\n",
      "You’re kinda close, keep going! 🔍\n",
      "Attempts left: 3 💥\n",
      "\n",
      "Too low ⬇️\n",
      "So close I can smell it 😩🔥\n",
      "Attempts left: 2 💥\n",
      "\n",
      "Too low ⬇️\n",
      "So close I can smell it 😩🔥\n",
      "Attempts left: 1 💥\n",
      "\n",
      "Too high ⬆️\n",
      "So close I can smell it 😩🔥\n",
      "Attempts left: 0 💥\n",
      "\n",
      "Game over 😭 Out of attempts!\n",
      "The number was 12\n"
     ]
    }
   ],
   "source": [
    "import random\n",
    "\n",
    "secret_number = random.randint(1, 20)\n",
    "guess = 0\n",
    "attempts = 0\n",
    "max_attempts = 5\n",
    "\n",
    "print(\"🎯 Welcome to the Guessing Game!\")\n",
    "print(\"I’m thinking of a number between 1 and 20... can you guess it?\")\n",
    "print(f\"You only have {max_attempts} tries, so choose wisely 😏\")\n",
    "\n",
    "while guess != secret_number and attempts < max_attempts:\n",
    "    guess = int(input(\"Enter your guess: \"))\n",
    "    attempts += 1\n",
    "\n",
    "    difference = abs(guess - secret_number)\n",
    "\n",
    "    if guess < secret_number:\n",
    "        print(\"Too low ⬇️\")\n",
    "    elif guess > secret_number:\n",
    "        print(\"Too high ⬆️\")\n",
    "    \n",
    "    # Sassy distance hint\n",
    "    if guess != secret_number:\n",
    "        if difference >= 10:\n",
    "            print(\"Girl, you're ice cold 🥶\")\n",
    "        elif difference >= 5:\n",
    "            print(\"You’re kinda close, keep going! 🔍\")\n",
    "        else:\n",
    "            print(\"So close I can smell it 😩🔥\")\n",
    "        print(f\"Attempts left: {max_attempts - attempts} 💥\\n\")\n",
    "\n",
    "# After loop\n",
    "if guess != secret_number:\n",
    "    print(\"Game over 😭 Out of attempts!\")\n",
    "    print(f\"The number was {secret_number}\")\n",
    "else:\n",
    "    print(f\"YASSS YOU GOT IT IN {attempts} tries 😭🎉👑\")\n"
   ]
  },
  {
   "cell_type": "code",
   "execution_count": null,
   "id": "b9834e1b",
   "metadata": {},
   "outputs": [],
   "source": [
    "#Level3 "
   ]
  },
  {
   "cell_type": "code",
   "execution_count": 9,
   "id": "c0df6331",
   "metadata": {},
   "outputs": [
    {
     "name": "stdout",
     "output_type": "stream",
     "text": [
      "🎯 Welcome to the Guessing Game!\n",
      "Okay Moni, let's see if your intuition is as strong as your vibe 😏🎯\n",
      "\n",
      "Moni, I’m thinking of a number between 1 and 20.\n",
      "You have 5 tries. Let’s go!\n",
      "\n",
      "Too low ⬇️\n",
      "You’re kinda close, keep going! 🔍\n",
      "Attempts left: 4 💥\n",
      "\n",
      "Too low ⬇️\n",
      "So close I can smell it 😩🔥\n",
      "Attempts left: 3 💥\n",
      "\n",
      "Too low ⬇️\n",
      "So close I can smell it 😩🔥\n",
      "Attempts left: 2 💥\n",
      "\n",
      "YASSS MONI YOU GOT IT IN 4 tries 😭🎉👑\n",
      "\n",
      "Moni, I’m thinking of a number between 1 and 20.\n",
      "You have 5 tries. Let’s go!\n",
      "\n",
      "Too low ⬇️\n",
      "So close I can smell it 😩🔥\n",
      "Attempts left: 4 💥\n",
      "\n",
      "Too high ⬆️\n",
      "So close I can smell it 😩🔥\n",
      "Attempts left: 3 💥\n",
      "\n",
      "Too high ⬆️\n",
      "So close I can smell it 😩🔥\n",
      "Attempts left: 2 💥\n",
      "\n",
      "YASSS MONI YOU GOT IT IN 4 tries 😭🎉👑\n",
      "\n",
      "Thanks for playing, Moni 🌈 Go eat a snack and rest your genius brain 💖\n"
     ]
    }
   ],
   "source": [
    "import random\n",
    "\n",
    "print(\"🎯 Welcome to the Guessing Game!\")\n",
    "name = input(\"What’s your name, legend? \")\n",
    "print(f\"Okay {name}, let's see if your intuition is as strong as your vibe 😏🎯\\n\")\n",
    "\n",
    "play_again = \"yes\"\n",
    "\n",
    "while play_again.lower() == \"yes\":\n",
    "    secret_number = random.randint(1, 20)\n",
    "    guess = 0\n",
    "    attempts = 0\n",
    "    max_attempts = 5\n",
    "\n",
    "    print(f\"{name}, I’m thinking of a number between 1 and 20.\")\n",
    "    print(f\"You have {max_attempts} tries. Let’s go!\\n\")\n",
    "\n",
    "    while guess != secret_number and attempts < max_attempts:\n",
    "        guess = int(input(\"Enter your guess: \"))\n",
    "        attempts += 1\n",
    "\n",
    "        difference = abs(guess - secret_number)\n",
    "\n",
    "        if guess < secret_number:\n",
    "            print(\"Too low ⬇️\")\n",
    "        elif guess > secret_number:\n",
    "            print(\"Too high ⬆️\")\n",
    "        \n",
    "        if guess != secret_number:\n",
    "            if difference >= 10:\n",
    "                print(\"Girl, you're ice cold 🥶\")\n",
    "            elif difference >= 5:\n",
    "                print(\"You’re kinda close, keep going! 🔍\")\n",
    "            else:\n",
    "                print(\"So close I can smell it 😩🔥\")\n",
    "            print(f\"Attempts left: {max_attempts - attempts} 💥\\n\")\n",
    "\n",
    "    if guess == secret_number:\n",
    "        print(f\"YASSS {name.upper()} YOU GOT IT IN {attempts} tries 😭🎉👑\\n\")\n",
    "    else:\n",
    "        print(\"Game over 😭 Out of attempts!\")\n",
    "        print(f\"The number was {secret_number}\\n\")\n",
    "\n",
    "    play_again = input(\"Wanna play again? (yes/no): \")\n",
    "\n",
    "print(f\"Thanks for playing, {name} 🌈 Go eat a snack and rest your genius brain 💖\")\n"
   ]
  }
 ],
 "metadata": {
  "kernelspec": {
   "display_name": "Python 3",
   "language": "python",
   "name": "python3"
  },
  "language_info": {
   "codemirror_mode": {
    "name": "ipython",
    "version": 3
   },
   "file_extension": ".py",
   "mimetype": "text/x-python",
   "name": "python",
   "nbconvert_exporter": "python",
   "pygments_lexer": "ipython3",
   "version": "3.12.5"
  }
 },
 "nbformat": 4,
 "nbformat_minor": 5
}

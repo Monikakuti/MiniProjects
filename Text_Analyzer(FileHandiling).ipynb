{
 "cells": [
  {
   "cell_type": "code",
   "execution_count": null,
   "id": "d476bd2b",
   "metadata": {},
   "outputs": [],
   "source": [
    "'''Mini Project: Text Analyzer\n",
    "🎯 You’ll build a program that:\n",
    "Takes text input\n",
    "Counts:\n",
    "Words\n",
    "Characters (excluding spaces)\n",
    "Saves result to a text file '''"
   ]
  },
  {
   "cell_type": "code",
   "execution_count": 1,
   "id": "2ef96b8a",
   "metadata": {},
   "outputs": [
    {
     "name": "stdout",
     "output_type": "stream",
     "text": [
      "Word count: 3\n",
      "Character count (no spaces): 11\n"
     ]
    }
   ],
   "source": [
    "def analyze_text(text):\n",
    "    words = len(text.split())                  # Split by spaces\n",
    "    characters = len(text.replace(\" \", \"\"))    # Exclude spaces\n",
    "    return words, characters\n",
    "\n",
    "# Step 1: Get user input\n",
    "text_input = input(\"Enter a sentence or paragraph: \")\n",
    "\n",
    "# Step 2: Analyze it\n",
    "word_count, char_count = analyze_text(text_input)\n",
    "\n",
    "# Step 3: Show the result\n",
    "print(\"Word count:\", word_count)\n",
    "print(\"Character count (no spaces):\", char_count)\n",
    "\n",
    "# Step 4: Save to file\n",
    "with open(\"text_analysis.txt\", \"w\") as file:\n",
    "    file.write(f\"Text: {text_input}\\n\")\n",
    "    file.write(f\"Word count: {word_count}\\n\")\n",
    "    file.write(f\"Character count (no spaces): {char_count}\\n\")\n"
   ]
  }
 ],
 "metadata": {
  "kernelspec": {
   "display_name": "Python 3",
   "language": "python",
   "name": "python3"
  },
  "language_info": {
   "codemirror_mode": {
    "name": "ipython",
    "version": 3
   },
   "file_extension": ".py",
   "mimetype": "text/x-python",
   "name": "python",
   "nbconvert_exporter": "python",
   "pygments_lexer": "ipython3",
   "version": "3.12.5"
  }
 },
 "nbformat": 4,
 "nbformat_minor": 5
}

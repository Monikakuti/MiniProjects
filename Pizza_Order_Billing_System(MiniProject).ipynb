{
 "cells": [
  {
   "cell_type": "code",
   "execution_count": null,
   "id": "20809303",
   "metadata": {},
   "outputs": [],
   "source": [
    "'''🎯 Goal:\n",
    "Takes order quantity for small, medium, and large pizzas\n",
    "Calculates total cost\n",
    "Applies a default tax\n",
    "Gives a discount using a lambda function\n",
    "Returns total price, total items, and discount'''"
   ]
  },
  {
   "cell_type": "code",
   "execution_count": 1,
   "id": "c513133a",
   "metadata": {},
   "outputs": [],
   "source": [
    "# Global discount rate\n",
    "discount_rate = 0.10  # 10%\n",
    "\n",
    "def pizza_order(small=0, medium=0, large=0, tax_rate=0.05):\n",
    "    # Local prices\n",
    "    price_small = 100\n",
    "    price_medium = 150\n",
    "    price_large = 200\n",
    "\n",
    "    # Total cost before tax\n",
    "    subtotal = small * price_small + medium * price_medium + large * price_large\n",
    "    tax = subtotal * tax_rate\n",
    "    total = subtotal + tax\n",
    "\n",
    "    # Total items\n",
    "    total_items = small + medium + large\n",
    "\n",
    "    # Lambda to apply discount\n",
    "    apply_discount = lambda amount: amount - (amount * discount_rate)\n",
    "\n",
    "    # Final price after discount\n",
    "    final_price = apply_discount(total)\n",
    "\n",
    "    return total_items, total, final_price\n"
   ]
  },
  {
   "cell_type": "code",
   "execution_count": 2,
   "id": "52d017f8",
   "metadata": {},
   "outputs": [
    {
     "name": "stdout",
     "output_type": "stream",
     "text": [
      "Items Ordered: 3\n",
      "Total Before Discount: 367.5\n",
      "Total After Discount: 330.75\n"
     ]
    }
   ],
   "source": [
    "items, total_before_discount, total_after_discount = pizza_order(small=2, medium=1)\n",
    "\n",
    "print(\"Items Ordered:\", items)\n",
    "print(\"Total Before Discount:\", total_before_discount)\n",
    "print(\"Total After Discount:\", total_after_discount)\n"
   ]
  }
 ],
 "metadata": {
  "kernelspec": {
   "display_name": "Python 3",
   "language": "python",
   "name": "python3"
  },
  "language_info": {
   "codemirror_mode": {
    "name": "ipython",
    "version": 3
   },
   "file_extension": ".py",
   "mimetype": "text/x-python",
   "name": "python",
   "nbconvert_exporter": "python",
   "pygments_lexer": "ipython3",
   "version": "3.12.5"
  }
 },
 "nbformat": 4,
 "nbformat_minor": 5
}

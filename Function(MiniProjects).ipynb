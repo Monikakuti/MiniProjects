{
 "cells": [
  {
   "cell_type": "code",
   "execution_count": null,
   "id": "5db28da2",
   "metadata": {},
   "outputs": [],
   "source": [
    "#Project 1: Billing System for a Café\n",
    "'''Let’s build a function that calculates:\n",
    "Total bill\n",
    "Total after tax\n",
    "Number of items ordered'''\n",
    "\n",
    "def calculate_bill(coffee_qty=0, sandwich_qty=0, pastry_qty=0):\n",
    "    total = coffee_qty * 100 + sandwich_qty * 150 + pastry_qty * 80\n",
    "    tax = total * 0.05\n",
    "    final_total = total + tax\n",
    "    total_items = coffee_qty + sandwich_qty + pastry_qty\n",
    "    return final_total, tax, total_items"
   ]
  },
  {
   "cell_type": "code",
   "execution_count": null,
   "id": "a71b0c14",
   "metadata": {},
   "outputs": [
    {
     "name": "stdout",
     "output_type": "stream",
     "text": [
      "Total Bill: 367.5\n",
      "Tax: 17.5\n",
      "Items Ordered: 3\n"
     ]
    }
   ],
   "source": [
    "bill, tax, items = calculate_bill(coffee_qty=2, sandwich_qty=1)\n",
    "print(\"Total Bill:\", bill)\n",
    "print(\"Tax:\", tax)\n",
    "print(\"Items Ordered:\", items)\n",
    "\n",
    "#🎯 Concepts used:✅ Multiple parameters,✅ Default values,✅ Returning multiple values"
   ]
  },
  {
   "cell_type": "code",
   "execution_count": null,
   "id": "e9d74583",
   "metadata": {},
   "outputs": [],
   "source": [
    "# Project 2: Temperature Converter\n",
    "'''This function will take a temperature and convert:\n",
    "Celsius to Fahrenheit\n",
    "Celsius to Kelvin'''\n",
    "\n",
    "def convert_temperature(celsius):\n",
    "    fahrenheit = (celsius * 9/5) + 32\n",
    "    kelvin = celsius + 273.15\n",
    "    return fahrenheit, kelvin"
   ]
  },
  {
   "cell_type": "code",
   "execution_count": null,
   "id": "5a3765ca",
   "metadata": {},
   "outputs": [
    {
     "name": "stdout",
     "output_type": "stream",
     "text": [
      "Fahrenheit: 77.0\n",
      "Kelvin: 298.15\n"
     ]
    }
   ],
   "source": [
    "f, k = convert_temperature(25)\n",
    "print(\"Fahrenheit:\", f)\n",
    "print(\"Kelvin:\", k)"
   ]
  },
  {
   "cell_type": "code",
   "execution_count": 5,
   "id": "caacd401",
   "metadata": {},
   "outputs": [],
   "source": [
    "#Project 3: Student Score Calculator\n",
    "#Calculate total, average, and grade.\n",
    "def student_report(math, science, english):\n",
    "    total = math + science + english\n",
    "    average = total / 3\n",
    "    grade = \"A\" if average >= 90 else \"B\" if average >= 75 else \"C\"\n",
    "    return total, average, grade"
   ]
  },
  {
   "cell_type": "code",
   "execution_count": 7,
   "id": "246d3c61",
   "metadata": {},
   "outputs": [
    {
     "name": "stdout",
     "output_type": "stream",
     "text": [
      "Total: 263\n",
      "Average: 87.66666666666667\n",
      "Grade: B\n"
     ]
    }
   ],
   "source": [
    "t, avg, g = student_report(85, 90, 88)\n",
    "print(\"Total:\", t)\n",
    "print(\"Average:\", avg)\n",
    "print(\"Grade:\", g)"
   ]
  }
 ],
 "metadata": {
  "kernelspec": {
   "display_name": "Python 3",
   "language": "python",
   "name": "python3"
  },
  "language_info": {
   "codemirror_mode": {
    "name": "ipython",
    "version": 3
   },
   "file_extension": ".py",
   "mimetype": "text/x-python",
   "name": "python",
   "nbconvert_exporter": "python",
   "pygments_lexer": "ipython3",
   "version": "3.12.5"
  }
 },
 "nbformat": 4,
 "nbformat_minor": 5
}
